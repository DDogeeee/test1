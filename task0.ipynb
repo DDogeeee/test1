{
 "cells": [
  {
   "cell_type": "code",
   "execution_count": 1,
   "metadata": {},
   "outputs": [],
   "source": [
    "import pandas as pd\n",
    "import numpy as np\n",
    "\n",
    "import matplotlib.pyplot as plt\n",
    "from plotly.tools import make_subplots\n",
    "import plotly.graph_objs as go\n",
    "from datetime import datetime, date\n",
    "from scipy import stats\n",
    "\n",
    "\n",
    "from sklearn.preprocessing import LabelEncoder\n",
    "from sklearn import preprocessing\n",
    "from sklearn.model_selection import train_test_split\n",
    "from sklearn.linear_model import LogisticRegression\n",
    "from sklearn.svm import SVC\n",
    "from sklearn.ensemble import RandomForestClassifier\n",
    "from sklearn.neighbors import KNeighborsClassifier\n",
    "from sklearn.tree import DecisionTreeClassifier\n",
    "from sklearn.model_selection import cross_val_score\n",
    "from sklearn.model_selection import train_test_split\n",
    "from sklearn.model_selection import KFold, StratifiedKFold\n",
    "from sklearn.metrics import log_loss, average_precision_score, f1_score, precision_score,accuracy_score\n",
    "\n",
    "\n",
    "import xgboost\n",
    "from xgboost import XGBClassifier\n",
    "from lightgbm import LGBMClassifier, plot_importance\n"
   ]
  },
  {
   "cell_type": "code",
   "execution_count": 2,
   "metadata": {},
   "outputs": [
    {
     "data": {
      "text/html": [
       "<div>\n",
       "<style scoped>\n",
       "    .dataframe tbody tr th:only-of-type {\n",
       "        vertical-align: middle;\n",
       "    }\n",
       "\n",
       "    .dataframe tbody tr th {\n",
       "        vertical-align: top;\n",
       "    }\n",
       "\n",
       "    .dataframe thead th {\n",
       "        text-align: right;\n",
       "    }\n",
       "</style>\n",
       "<table border=\"1\" class=\"dataframe\">\n",
       "  <thead>\n",
       "    <tr style=\"text-align: right;\">\n",
       "      <th></th>\n",
       "      <th>_id</th>\n",
       "      <th>loan_amount</th>\n",
       "      <th>full_name</th>\n",
       "      <th>identity</th>\n",
       "      <th>phone</th>\n",
       "      <th>referal.aff_sub1</th>\n",
       "      <th>referal.aff_sub2</th>\n",
       "      <th>referal.aff_sub3</th>\n",
       "      <th>referal.aff_sub4</th>\n",
       "      <th>created_at</th>\n",
       "      <th>loan_status</th>\n",
       "      <th>rejected_by</th>\n",
       "      <th>product_code</th>\n",
       "      <th>city</th>\n",
       "      <th>district</th>\n",
       "      <th>dob</th>\n",
       "      <th>document.0</th>\n",
       "      <th>document.1</th>\n",
       "      <th>income</th>\n",
       "      <th>incomeType</th>\n",
       "    </tr>\n",
       "  </thead>\n",
       "  <tbody>\n",
       "    <tr>\n",
       "      <th>0</th>\n",
       "      <td>6021491b3d402e687c544deb</td>\n",
       "      <td>5000000.0</td>\n",
       "      <td>Cù chính lợi</td>\n",
       "      <td>040090000634</td>\n",
       "      <td>989578404.0</td>\n",
       "      <td>${aff_sub1}</td>\n",
       "      <td>${aff_sub2}</td>\n",
       "      <td>${aff_sub3}</td>\n",
       "      <td>${aff_sub4}</td>\n",
       "      <td>2021-02-08T14:22:19.608Z</td>\n",
       "      <td>rejected</td>\n",
       "      <td>postback</td>\n",
       "      <td>NaN</td>\n",
       "      <td>NaN</td>\n",
       "      <td>NaN</td>\n",
       "      <td>NaN</td>\n",
       "      <td>NaN</td>\n",
       "      <td>NaN</td>\n",
       "      <td>NaN</td>\n",
       "      <td>NaN</td>\n",
       "    </tr>\n",
       "    <tr>\n",
       "      <th>1</th>\n",
       "      <td>602145833d402e687c544dea</td>\n",
       "      <td>3000000.0</td>\n",
       "      <td>Nguyên thị thùy vien</td>\n",
       "      <td>27233652</td>\n",
       "      <td>365038715.0</td>\n",
       "      <td>I</td>\n",
       "      <td>${aff_sub2}</td>\n",
       "      <td>${aff_sub3}</td>\n",
       "      <td>${aff_sub4}</td>\n",
       "      <td>2021-02-08T14:06:59.148Z</td>\n",
       "      <td>rejected</td>\n",
       "      <td>otp</td>\n",
       "      <td>NaN</td>\n",
       "      <td>NaN</td>\n",
       "      <td>NaN</td>\n",
       "      <td>NaN</td>\n",
       "      <td>NaN</td>\n",
       "      <td>NaN</td>\n",
       "      <td>NaN</td>\n",
       "      <td>NaN</td>\n",
       "    </tr>\n",
       "    <tr>\n",
       "      <th>2</th>\n",
       "      <td>6021419843f9e7280922e607</td>\n",
       "      <td>10000000.0</td>\n",
       "      <td>nguyên công hoàng</td>\n",
       "      <td>034202003640</td>\n",
       "      <td>374628840.0</td>\n",
       "      <td>${aff_sub1}</td>\n",
       "      <td>${aff_sub2}</td>\n",
       "      <td>${aff_sub3}</td>\n",
       "      <td>${aff_sub4}</td>\n",
       "      <td>2021-02-08T13:50:16.299Z</td>\n",
       "      <td>rejected</td>\n",
       "      <td>otp</td>\n",
       "      <td>NaN</td>\n",
       "      <td>NaN</td>\n",
       "      <td>NaN</td>\n",
       "      <td>NaN</td>\n",
       "      <td>NaN</td>\n",
       "      <td>NaN</td>\n",
       "      <td>NaN</td>\n",
       "      <td>NaN</td>\n",
       "    </tr>\n",
       "    <tr>\n",
       "      <th>3</th>\n",
       "      <td>6021410e43f9e7280922e606</td>\n",
       "      <td>10000000.0</td>\n",
       "      <td>Hồ văn thể</td>\n",
       "      <td>205677524</td>\n",
       "      <td>865351410.0</td>\n",
       "      <td>${aff_sub1}</td>\n",
       "      <td>${aff_sub2}</td>\n",
       "      <td>${aff_sub3}</td>\n",
       "      <td>${aff_sub4}</td>\n",
       "      <td>2021-02-08T13:47:58.959Z</td>\n",
       "      <td>rejected</td>\n",
       "      <td>postback</td>\n",
       "      <td>NaN</td>\n",
       "      <td>NaN</td>\n",
       "      <td>NaN</td>\n",
       "      <td>NaN</td>\n",
       "      <td>NaN</td>\n",
       "      <td>NaN</td>\n",
       "      <td>NaN</td>\n",
       "      <td>NaN</td>\n",
       "    </tr>\n",
       "    <tr>\n",
       "      <th>4</th>\n",
       "      <td>60213b9a3d402e687c544de9</td>\n",
       "      <td>50000000.0</td>\n",
       "      <td>Tôn Thị Hạnh mỹ</td>\n",
       "      <td>212646480</td>\n",
       "      <td>979814752.0</td>\n",
       "      <td>I</td>\n",
       "      <td>${aff_sub2}</td>\n",
       "      <td>${aff_sub3}</td>\n",
       "      <td>${aff_sub4}</td>\n",
       "      <td>2021-02-08T13:24:42.526Z</td>\n",
       "      <td>rejected</td>\n",
       "      <td>otp</td>\n",
       "      <td>NaN</td>\n",
       "      <td>NaN</td>\n",
       "      <td>NaN</td>\n",
       "      <td>NaN</td>\n",
       "      <td>NaN</td>\n",
       "      <td>NaN</td>\n",
       "      <td>NaN</td>\n",
       "      <td>NaN</td>\n",
       "    </tr>\n",
       "    <tr>\n",
       "      <th>...</th>\n",
       "      <td>...</td>\n",
       "      <td>...</td>\n",
       "      <td>...</td>\n",
       "      <td>...</td>\n",
       "      <td>...</td>\n",
       "      <td>...</td>\n",
       "      <td>...</td>\n",
       "      <td>...</td>\n",
       "      <td>...</td>\n",
       "      <td>...</td>\n",
       "      <td>...</td>\n",
       "      <td>...</td>\n",
       "      <td>...</td>\n",
       "      <td>...</td>\n",
       "      <td>...</td>\n",
       "      <td>...</td>\n",
       "      <td>...</td>\n",
       "      <td>...</td>\n",
       "      <td>...</td>\n",
       "      <td>...</td>\n",
       "    </tr>\n",
       "    <tr>\n",
       "      <th>2784</th>\n",
       "      <td>6004d3db4c67df226b49cab6</td>\n",
       "      <td>20000000.0</td>\n",
       "      <td>Phạm văn thắng</td>\n",
       "      <td>031352803</td>\n",
       "      <td>917762305.0</td>\n",
       "      <td>vaysieude</td>\n",
       "      <td>BC</td>\n",
       "      <td>${aff_sub3}</td>\n",
       "      <td>${aff_sub4}</td>\n",
       "      <td>2021-01-18T00:18:35.372Z</td>\n",
       "      <td>rejected</td>\n",
       "      <td>postback</td>\n",
       "      <td>NaN</td>\n",
       "      <td>thanh_pho_hai_phong</td>\n",
       "      <td>thanh_pho_hai_phong:huyen_vinh_bao</td>\n",
       "      <td>07-05-1984</td>\n",
       "      <td>family_book</td>\n",
       "      <td>NaN</td>\n",
       "      <td>8000000.0</td>\n",
       "      <td>salaried</td>\n",
       "    </tr>\n",
       "    <tr>\n",
       "      <th>2785</th>\n",
       "      <td>6004d1dc4c67df226b49cab5</td>\n",
       "      <td>5000000.0</td>\n",
       "      <td>Nguyễn thị Minh</td>\n",
       "      <td>184412664</td>\n",
       "      <td>374233289.0</td>\n",
       "      <td>${aff_sub1}</td>\n",
       "      <td>${aff_sub2}</td>\n",
       "      <td>${aff_sub3}</td>\n",
       "      <td>${aff_sub4}</td>\n",
       "      <td>2021-01-18T00:10:04.779Z</td>\n",
       "      <td>rejected</td>\n",
       "      <td>otp</td>\n",
       "      <td>NaN</td>\n",
       "      <td>tinh_ha_tinh</td>\n",
       "      <td>tinh_ha_tinh:huyen_thach_ha</td>\n",
       "      <td>25-04-1998</td>\n",
       "      <td>family_book</td>\n",
       "      <td>nid_card</td>\n",
       "      <td>5000000.0</td>\n",
       "      <td>salaried</td>\n",
       "    </tr>\n",
       "    <tr>\n",
       "      <th>2786</th>\n",
       "      <td>6004d1c04c67df226b49cab4</td>\n",
       "      <td>20000000.0</td>\n",
       "      <td>Bùi văn tình</td>\n",
       "      <td>017190231</td>\n",
       "      <td>353681416.0</td>\n",
       "      <td>vaysieude</td>\n",
       "      <td>mail</td>\n",
       "      <td>${aff_sub3}</td>\n",
       "      <td>${aff_sub4}</td>\n",
       "      <td>2021-01-18T00:09:36.304Z</td>\n",
       "      <td>rejected</td>\n",
       "      <td>otp</td>\n",
       "      <td>NaN</td>\n",
       "      <td>thanh_pho_ha_noi</td>\n",
       "      <td>thanh_pho_ha_noi:huyen_dan_phuong</td>\n",
       "      <td>23-11-1992</td>\n",
       "      <td>nid_card</td>\n",
       "      <td>NaN</td>\n",
       "      <td>10000000.0</td>\n",
       "      <td>salaried</td>\n",
       "    </tr>\n",
       "    <tr>\n",
       "      <th>2787</th>\n",
       "      <td>6004d13f6721235b2914dd15</td>\n",
       "      <td>5000000.0</td>\n",
       "      <td>Hoàng Thị Ngọc</td>\n",
       "      <td>184380192</td>\n",
       "      <td>374233289.0</td>\n",
       "      <td>${aff_sub1}</td>\n",
       "      <td>${aff_sub2}</td>\n",
       "      <td>${aff_sub3}</td>\n",
       "      <td>${aff_sub4}</td>\n",
       "      <td>2021-01-18T00:07:27.531Z</td>\n",
       "      <td>rejected</td>\n",
       "      <td>otp</td>\n",
       "      <td>NaN</td>\n",
       "      <td>tinh_ha_tinh</td>\n",
       "      <td>tinh_ha_tinh:huyen_thach_ha</td>\n",
       "      <td>20-06-1999</td>\n",
       "      <td>family_book</td>\n",
       "      <td>nid_card</td>\n",
       "      <td>5000000.0</td>\n",
       "      <td>salaried</td>\n",
       "    </tr>\n",
       "    <tr>\n",
       "      <th>2788</th>\n",
       "      <td>6004cf9d4c67df226b49cab3</td>\n",
       "      <td>20000000.0</td>\n",
       "      <td>ĐẶNG HOÀNG ANH</td>\n",
       "      <td>001092009716</td>\n",
       "      <td>373998782.0</td>\n",
       "      <td>vaysieude</td>\n",
       "      <td>mail</td>\n",
       "      <td>${aff_sub3}</td>\n",
       "      <td>${aff_sub4}</td>\n",
       "      <td>2021-01-18T00:00:29.357Z</td>\n",
       "      <td>rejected</td>\n",
       "      <td>postback</td>\n",
       "      <td>NaN</td>\n",
       "      <td>thanh_pho_ha_noi</td>\n",
       "      <td>thanh_pho_ha_noi:quan_hai_ba_trung</td>\n",
       "      <td>27-08-1992</td>\n",
       "      <td>family_book</td>\n",
       "      <td>nid_card</td>\n",
       "      <td>10000000.0</td>\n",
       "      <td>salaried</td>\n",
       "    </tr>\n",
       "  </tbody>\n",
       "</table>\n",
       "<p>2789 rows × 20 columns</p>\n",
       "</div>"
      ],
      "text/plain": [
       "                           _id  loan_amount             full_name  \\\n",
       "0     6021491b3d402e687c544deb    5000000.0          Cù chính lợi   \n",
       "1     602145833d402e687c544dea    3000000.0  Nguyên thị thùy vien   \n",
       "2     6021419843f9e7280922e607   10000000.0     nguyên công hoàng   \n",
       "3     6021410e43f9e7280922e606   10000000.0            Hồ văn thể   \n",
       "4     60213b9a3d402e687c544de9   50000000.0       Tôn Thị Hạnh mỹ   \n",
       "...                        ...          ...                   ...   \n",
       "2784  6004d3db4c67df226b49cab6   20000000.0        Phạm văn thắng   \n",
       "2785  6004d1dc4c67df226b49cab5    5000000.0       Nguyễn thị Minh   \n",
       "2786  6004d1c04c67df226b49cab4   20000000.0          Bùi văn tình   \n",
       "2787  6004d13f6721235b2914dd15    5000000.0        Hoàng Thị Ngọc   \n",
       "2788  6004cf9d4c67df226b49cab3   20000000.0        ĐẶNG HOÀNG ANH   \n",
       "\n",
       "          identity        phone referal.aff_sub1 referal.aff_sub2  \\\n",
       "0     040090000634  989578404.0      ${aff_sub1}      ${aff_sub2}   \n",
       "1         27233652  365038715.0                I      ${aff_sub2}   \n",
       "2     034202003640  374628840.0      ${aff_sub1}      ${aff_sub2}   \n",
       "3        205677524  865351410.0      ${aff_sub1}      ${aff_sub2}   \n",
       "4        212646480  979814752.0                I      ${aff_sub2}   \n",
       "...            ...          ...              ...              ...   \n",
       "2784     031352803  917762305.0        vaysieude               BC   \n",
       "2785     184412664  374233289.0      ${aff_sub1}      ${aff_sub2}   \n",
       "2786     017190231  353681416.0        vaysieude             mail   \n",
       "2787     184380192  374233289.0      ${aff_sub1}      ${aff_sub2}   \n",
       "2788  001092009716  373998782.0        vaysieude             mail   \n",
       "\n",
       "     referal.aff_sub3 referal.aff_sub4                created_at loan_status  \\\n",
       "0         ${aff_sub3}      ${aff_sub4}  2021-02-08T14:22:19.608Z    rejected   \n",
       "1         ${aff_sub3}      ${aff_sub4}  2021-02-08T14:06:59.148Z    rejected   \n",
       "2         ${aff_sub3}      ${aff_sub4}  2021-02-08T13:50:16.299Z    rejected   \n",
       "3         ${aff_sub3}      ${aff_sub4}  2021-02-08T13:47:58.959Z    rejected   \n",
       "4         ${aff_sub3}      ${aff_sub4}  2021-02-08T13:24:42.526Z    rejected   \n",
       "...               ...              ...                       ...         ...   \n",
       "2784      ${aff_sub3}      ${aff_sub4}  2021-01-18T00:18:35.372Z    rejected   \n",
       "2785      ${aff_sub3}      ${aff_sub4}  2021-01-18T00:10:04.779Z    rejected   \n",
       "2786      ${aff_sub3}      ${aff_sub4}  2021-01-18T00:09:36.304Z    rejected   \n",
       "2787      ${aff_sub3}      ${aff_sub4}  2021-01-18T00:07:27.531Z    rejected   \n",
       "2788      ${aff_sub3}      ${aff_sub4}  2021-01-18T00:00:29.357Z    rejected   \n",
       "\n",
       "     rejected_by product_code                 city  \\\n",
       "0       postback          NaN                  NaN   \n",
       "1            otp          NaN                  NaN   \n",
       "2            otp          NaN                  NaN   \n",
       "3       postback          NaN                  NaN   \n",
       "4            otp          NaN                  NaN   \n",
       "...          ...          ...                  ...   \n",
       "2784    postback          NaN  thanh_pho_hai_phong   \n",
       "2785         otp          NaN         tinh_ha_tinh   \n",
       "2786         otp          NaN     thanh_pho_ha_noi   \n",
       "2787         otp          NaN         tinh_ha_tinh   \n",
       "2788    postback          NaN     thanh_pho_ha_noi   \n",
       "\n",
       "                                district         dob   document.0 document.1  \\\n",
       "0                                    NaN         NaN          NaN        NaN   \n",
       "1                                    NaN         NaN          NaN        NaN   \n",
       "2                                    NaN         NaN          NaN        NaN   \n",
       "3                                    NaN         NaN          NaN        NaN   \n",
       "4                                    NaN         NaN          NaN        NaN   \n",
       "...                                  ...         ...          ...        ...   \n",
       "2784  thanh_pho_hai_phong:huyen_vinh_bao  07-05-1984  family_book        NaN   \n",
       "2785         tinh_ha_tinh:huyen_thach_ha  25-04-1998  family_book   nid_card   \n",
       "2786   thanh_pho_ha_noi:huyen_dan_phuong  23-11-1992     nid_card        NaN   \n",
       "2787         tinh_ha_tinh:huyen_thach_ha  20-06-1999  family_book   nid_card   \n",
       "2788  thanh_pho_ha_noi:quan_hai_ba_trung  27-08-1992  family_book   nid_card   \n",
       "\n",
       "          income incomeType  \n",
       "0            NaN        NaN  \n",
       "1            NaN        NaN  \n",
       "2            NaN        NaN  \n",
       "3            NaN        NaN  \n",
       "4            NaN        NaN  \n",
       "...          ...        ...  \n",
       "2784   8000000.0   salaried  \n",
       "2785   5000000.0   salaried  \n",
       "2786  10000000.0   salaried  \n",
       "2787   5000000.0   salaried  \n",
       "2788  10000000.0   salaried  \n",
       "\n",
       "[2789 rows x 20 columns]"
      ]
     },
     "execution_count": 2,
     "metadata": {},
     "output_type": "execute_result"
    }
   ],
   "source": [
    "vsd = pd.read_csv('vsd.csv')\n",
    "vsd.head()\n",
    "vsd\n"
   ]
  },
  {
   "cell_type": "code",
   "execution_count": 3,
   "metadata": {},
   "outputs": [],
   "source": [
    "def label(columns):\n",
    "    count =0\n",
    "    mydict =dict()\n",
    "    for c in vsd[columns].unique():\n",
    "        mydict[c] = count\n",
    "        count+=1\n",
    "    return mydict\n",
    "\n",
    "def label1(columns):\n",
    "    for c in vsd.index:\n",
    "        if vsd.loc[c,columns] !=0:\n",
    "            vsd.loc[c,columns] = 1\n",
    "    return vsd[columns]\n",
    "    \n",
    "def preprocess(columns):\n",
    "    vsd[columns] = vsd[columns].str.lower()\n",
    "    mlist = vsd[columns].unique()\n",
    "    mdict= {}\n",
    "    for dif in mlist:\n",
    "        if (vsd[columns] == dif).sum() <100:\n",
    "            mdict[dif] = 'other'\n",
    "        else: mdict[dif] = dif\n",
    "    vsd[columns] = vsd[columns].map(mdict)\n",
    "    return 0\n",
    "\n",
    "def get_age(row):\n",
    "    try:\n",
    "        row.dob = row.dob[-4:]\n",
    "        row.dob = date.today().year - pd.to_numeric(row.dob)\n",
    "    except:\n",
    "        row.dob = 0\n",
    "    return row\n",
    "def re_age(row):\n",
    "    if row.dob == 0:\n",
    "        row.dob = np.ceil(vsd.dob.mode())\n",
    "    return row\n",
    "\n",
    "#loại bỏ row khi không có tên và khoản vay\n",
    "vsd = vsd.dropna(subset = ['loan_amount','full_name'])\n",
    "\n",
    "#loại bỏ nhưng feature không liên quan\n",
    "drop_list = ['rejected_by','product_code','created_at','district','full_name','_id']\n",
    "vsd = vsd.drop(drop_list, axis =1)\n",
    "\n",
    "#loại bỏ row khi tình trạng là pending và label 0 với reject và 1 với success\n",
    "vsd = vsd[vsd['loan_status']!= 'pending'] \n",
    "mdict = {'rejected':0, 'success':1}  \n",
    "vsd['loan_status'] = vsd['loan_status'].map(mdict)"
   ]
  },
  {
   "cell_type": "code",
   "execution_count": 4,
   "metadata": {},
   "outputs": [
    {
     "data": {
      "image/png": "[encoded data removed]",
      "text/plain": [
       "<Figure size 432x288 with 1 Axes>"
      ]
     },
     "metadata": {
      "needs_background": "light"
     },
     "output_type": "display_data"
    }
   ],
   "source": [
    "ax = plt.axes();\n",
    "ax.hist(vsd.loan_amount, bins = 30);\n",
    "ax.set(xlabel = 'Loan Amount (Million)',\n",
    "      ylabel = 'Frequency',\n",
    "      title = 'Distribution of Loan Amount');"
   ]
  },
  {
   "cell_type": "code",
   "execution_count": 5,
   "metadata": {},
   "outputs": [
    {
     "data": {
      "image/png": "[encoded data removed]",
      "text/plain": [
       "<Figure size 432x288 with 1 Axes>"
      ]
     },
     "metadata": {
      "needs_background": "light"
     },
     "output_type": "display_data"
    }
   ],
   "source": [
    "ax = plt.axes();\n",
    "ax.hist(vsd.income, bins = 30);\n",
    "ax.set(xlabel = 'Income (Million)',\n",
    "      ylabel = 'Frequency',\n",
    "      title = 'Distribution of Income');"
   ]
  },
  {
   "cell_type": "code",
   "execution_count": 6,
   "metadata": {},
   "outputs": [
    {
     "data": {
      "text/plain": [
       "<AxesSubplot:>"
      ]
     },
     "execution_count": 6,
     "metadata": {},
     "output_type": "execute_result"
    },
    {
     "data": {
      "image/png": "[encoded data removed]",
      "text/plain": [
       "<Figure size 432x288 with 1 Axes>"
      ]
     },
     "metadata": {
      "needs_background": "light"
     },
     "output_type": "display_data"
    }
   ],
   "source": [
    "vsd.loan_status.value_counts().plot(kind = 'barh')"
   ]
  },
  {
   "cell_type": "code",
   "execution_count": 7,
   "metadata": {},
   "outputs": [
    {
     "data": {
      "text/plain": [
       "<AxesSubplot:>"
      ]
     },
     "execution_count": 7,
     "metadata": {},
     "output_type": "execute_result"
    },
    {
     "data": {
      "image/png": "[encoded data removed]",
      "text/plain": [
       "<Figure size 432x288 with 1 Axes>"
      ]
     },
     "metadata": {
      "needs_background": "light"
     },
     "output_type": "display_data"
    }
   ],
   "source": [
    "vsd['referal.aff_sub1'].value_counts().plot(kind = 'barh')\n"
   ]
  },
  {
   "cell_type": "code",
   "execution_count": 8,
   "metadata": {},
   "outputs": [
    {
     "data": {
      "text/plain": [
       "<AxesSubplot:>"
      ]
     },
     "execution_count": 8,
     "metadata": {},
     "output_type": "execute_result"
    },
    {
     "data": {
      "image/png": "[encoded data removed]",
      "text/plain": [
       "<Figure size 432x288 with 1 Axes>"
      ]
     },
     "metadata": {
      "needs_background": "light"
     },
     "output_type": "display_data"
    }
   ],
   "source": [
    "vsd['referal.aff_sub2'].value_counts().plot(kind = 'barh')"
   ]
  },
  {
   "cell_type": "code",
   "execution_count": 9,
   "metadata": {},
   "outputs": [
    {
     "data": {
      "text/plain": [
       "<AxesSubplot:>"
      ]
     },
     "execution_count": 9,
     "metadata": {},
     "output_type": "execute_result"
    },
    {
     "data": {
      "image/png": "[encoded data removed]",
      "text/plain": [
       "<Figure size 432x288 with 1 Axes>"
      ]
     },
     "metadata": {
      "needs_background": "light"
     },
     "output_type": "display_data"
    }
   ],
   "source": [
    "vsd['referal.aff_sub3'].value_counts().plot(kind = 'barh')"
   ]
  },
  {
   "cell_type": "code",
   "execution_count": 10,
   "metadata": {},
   "outputs": [
    {
     "data": {
      "text/plain": [
       "<AxesSubplot:>"
      ]
     },
     "execution_count": 10,
     "metadata": {},
     "output_type": "execute_result"
    },
    {
     "data": {
      "image/png": "[encoded data removed]",
      "text/plain": [
       "<Figure size 432x288 with 1 Axes>"
      ]
     },
     "metadata": {
      "needs_background": "light"
     },
     "output_type": "display_data"
    }
   ],
   "source": [
    "vsd['referal.aff_sub4'].value_counts().plot(kind = 'barh')"
   ]
  },
  {
   "cell_type": "code",
   "execution_count": 11,
   "metadata": {},
   "outputs": [
    {
     "data": {
      "text/plain": [
       "<AxesSubplot:>"
      ]
     },
     "execution_count": 11,
     "metadata": {},
     "output_type": "execute_result"
    },
    {
     "data": {
      "image/png": "[encoded data removed]",
      "text/plain": [
       "<Figure size 432x288 with 1 Axes>"
      ]
     },
     "metadata": {
      "needs_background": "light"
     },
     "output_type": "display_data"
    }
   ],
   "source": [
    "vsd['loan_status'].value_counts().plot(kind = 'barh')"
   ]
  },
  {
   "cell_type": "code",
   "execution_count": 12,
   "metadata": {},
   "outputs": [
    {
     "data": {
      "text/plain": [
       "<AxesSubplot:>"
      ]
     },
     "execution_count": 12,
     "metadata": {},
     "output_type": "execute_result"
    },
    {
     "data": {
      "image/png": "[encoded data removed]",
      "text/plain": [
       "<Figure size 1200x960 with 1 Axes>"
      ]
     },
     "metadata": {
      "needs_background": "light"
     },
     "output_type": "display_data"
    }
   ],
   "source": [
    "fig = plt.figure(figsize=(15, 12), dpi=80)\n",
    "vsd['city'].value_counts().plot(kind = 'barh')"
   ]
  },
  {
   "cell_type": "code",
   "execution_count": 13,
   "metadata": {},
   "outputs": [
    {
     "data": {
      "text/plain": [
       "<AxesSubplot:>"
      ]
     },
     "execution_count": 13,
     "metadata": {},
     "output_type": "execute_result"
    },
    {
     "data": {
      "image/png": "[encoded data removed]",
      "text/plain": [
       "<Figure size 432x288 with 1 Axes>"
      ]
     },
     "metadata": {
      "needs_background": "light"
     },
     "output_type": "display_data"
    }
   ],
   "source": [
    "vsd['document.0'].value_counts().plot(kind = 'barh')"
   ]
  },
  {
   "cell_type": "code",
   "execution_count": 14,
   "metadata": {},
   "outputs": [
    {
     "data": {
      "text/plain": [
       "<AxesSubplot:>"
      ]
     },
     "execution_count": 14,
     "metadata": {},
     "output_type": "execute_result"
    },
    {
     "data": {
      "image/png": "[encoded data removed]",
      "text/plain": [
       "<Figure size 432x288 with 1 Axes>"
      ]
     },
     "metadata": {
      "needs_background": "light"
     },
     "output_type": "display_data"
    }
   ],
   "source": [
    "vsd['document.1'].value_counts().plot(kind = 'barh')"
   ]
  },
  {
   "cell_type": "code",
   "execution_count": 15,
   "metadata": {},
   "outputs": [
    {
     "data": {
      "text/plain": [
       "<AxesSubplot:>"
      ]
     },
     "execution_count": 15,
     "metadata": {},
     "output_type": "execute_result"
    },
    {
     "data": {
      "image/png": "[encoded data removed]",
      "text/plain": [
       "<Figure size 432x288 with 1 Axes>"
      ]
     },
     "metadata": {
      "needs_background": "light"
     },
     "output_type": "display_data"
    }
   ],
   "source": [
    "vsd['incomeType'].value_counts().plot(kind = 'barh')"
   ]
  },
  {
   "cell_type": "code",
   "execution_count": 16,
   "metadata": {},
   "outputs": [
    {
     "data": {
      "text/plain": [
       "loan_amount            0\n",
       "identity               0\n",
       "phone                  0\n",
       "referal.aff_sub1      39\n",
       "referal.aff_sub2      39\n",
       "referal.aff_sub3      39\n",
       "referal.aff_sub4      39\n",
       "loan_status            0\n",
       "city                 863\n",
       "dob                  879\n",
       "document.0           864\n",
       "document.1          2234\n",
       "income               863\n",
       "incomeType           863\n",
       "dtype: int64"
      ]
     },
     "execution_count": 16,
     "metadata": {},
     "output_type": "execute_result"
    }
   ],
   "source": [
    "vsd.isnull().sum()"
   ]
  },
  {
   "cell_type": "code",
   "execution_count": 17,
   "metadata": {},
   "outputs": [],
   "source": [
    "preprocess_list = ['referal.aff_sub1','referal.aff_sub2','referal.aff_sub3','referal.aff_sub4']\n",
    "# xử lí biến referal, với các value có tần suất < 100 thì gộp vào giá trị other cùng NA\n",
    "for c in preprocess_list:\n",
    "    vsd[c] = vsd[c].fillna('other')\n",
    "    preprocess(c)\n",
    "    vsd[c] = vsd[c].map(label(c))\n",
    "    \n",
    "vsd['city'] = vsd['city'].fillna(0)\n",
    "vsd['city'] = vsd['city'].map(label('city'))\n",
    "\n",
    "#label 1 khi có để lại số điện thoại cx như chứng minh thư và 0 khi ngược lại\n",
    "vsd['identity'] = vsd['identity'].fillna(0)\n",
    "vsd['identity'] = label1('identity')\n",
    "vsd['phone'] = vsd['phone'].fillna(0)\n",
    "vsd['phone'] = label1('phone').astype(int)\n",
    "\n",
    "#fill na với giá trị 0 và label với các biến còn lại\n",
    "vsd['document.0'].fillna(0)\n",
    "vsd['document.0'] = vsd['document.0'].map(label('document.0'))\n",
    "vsd['document.1'].fillna(0)\n",
    "vsd['document.1'] = vsd['document.1'].map(label('document.1'))\n",
    "vsd['income'] = vsd['income'].fillna(0)\n",
    "vsd['incomeType'] = vsd['incomeType'].fillna(0)\n",
    "vsd['incomeType'] = vsd['incomeType'].map(label('incomeType'))\n",
    "\n",
    "#dob sẽ được tính thành tuổi, với những giá trị không hợp lệ hoặc na sẽ đổi thành mode\n",
    "vsd = vsd.apply(get_age,axis = 'columns')\n",
    "vsd = vsd.apply(re_age,axis = 'columns')\n",
    "\n",
    "#khả năng hoàn trả payback được tính bằng loan amount / income và làm tròn lên, với income = 0 thì payback = 0\n",
    "vsd['payback'] = vsd['loan_amount']/vsd['income']\n",
    "for c in vsd.index:\n",
    "    if vsd.loc[c,'payback'] == float('inf') :\n",
    "        vsd.loc[c,'payback'] = 0\n",
    "vsd['payback'] = vsd.payback.apply(np.ceil)"
   ]
  },
  {
   "cell_type": "code",
   "execution_count": 18,
   "metadata": {},
   "outputs": [
    {
     "data": {
      "image/png": "[encoded data removed]",
      "text/plain": [
       "<Figure size 432x288 with 1 Axes>"
      ]
     },
     "metadata": {
      "needs_background": "light"
     },
     "output_type": "display_data"
    }
   ],
   "source": [
    "vsd.dob.hist();"
   ]
  },
  {
   "cell_type": "code",
   "execution_count": 19,
   "metadata": {},
   "outputs": [
    {
     "data": {
      "text/html": [
       "<div>\n",
       "<style scoped>\n",
       "    .dataframe tbody tr th:only-of-type {\n",
       "        vertical-align: middle;\n",
       "    }\n",
       "\n",
       "    .dataframe tbody tr th {\n",
       "        vertical-align: top;\n",
       "    }\n",
       "\n",
       "    .dataframe thead th {\n",
       "        text-align: right;\n",
       "    }\n",
       "</style>\n",
       "<table border=\"1\" class=\"dataframe\">\n",
       "  <thead>\n",
       "    <tr style=\"text-align: right;\">\n",
       "      <th>loan_status</th>\n",
       "      <th>0.0</th>\n",
       "      <th>1.0</th>\n",
       "    </tr>\n",
       "    <tr>\n",
       "      <th>referal.aff_sub1</th>\n",
       "      <th></th>\n",
       "      <th></th>\n",
       "    </tr>\n",
       "  </thead>\n",
       "  <tbody>\n",
       "    <tr>\n",
       "      <th>0.0</th>\n",
       "      <td>1276</td>\n",
       "      <td>13</td>\n",
       "    </tr>\n",
       "    <tr>\n",
       "      <th>1.0</th>\n",
       "      <td>136</td>\n",
       "      <td>2</td>\n",
       "    </tr>\n",
       "    <tr>\n",
       "      <th>2.0</th>\n",
       "      <td>865</td>\n",
       "      <td>13</td>\n",
       "    </tr>\n",
       "    <tr>\n",
       "      <th>3.0</th>\n",
       "      <td>101</td>\n",
       "      <td>0</td>\n",
       "    </tr>\n",
       "  </tbody>\n",
       "</table>\n",
       "</div>"
      ],
      "text/plain": [
       "loan_status        0.0  1.0\n",
       "referal.aff_sub1           \n",
       "0.0               1276   13\n",
       "1.0                136    2\n",
       "2.0                865   13\n",
       "3.0                101    0"
      ]
     },
     "execution_count": 19,
     "metadata": {},
     "output_type": "execute_result"
    }
   ],
   "source": [
    "pd.crosstab(vsd['referal.aff_sub1'], vsd.loan_status)"
   ]
  },
  {
   "cell_type": "code",
   "execution_count": 20,
   "metadata": {},
   "outputs": [
    {
     "data": {
      "text/html": [
       "<div>\n",
       "<style scoped>\n",
       "    .dataframe tbody tr th:only-of-type {\n",
       "        vertical-align: middle;\n",
       "    }\n",
       "\n",
       "    .dataframe tbody tr th {\n",
       "        vertical-align: top;\n",
       "    }\n",
       "\n",
       "    .dataframe thead th {\n",
       "        text-align: right;\n",
       "    }\n",
       "</style>\n",
       "<table border=\"1\" class=\"dataframe\">\n",
       "  <thead>\n",
       "    <tr style=\"text-align: right;\">\n",
       "      <th>loan_status</th>\n",
       "      <th>0.0</th>\n",
       "      <th>1.0</th>\n",
       "    </tr>\n",
       "    <tr>\n",
       "      <th>referal.aff_sub2</th>\n",
       "      <th></th>\n",
       "      <th></th>\n",
       "    </tr>\n",
       "  </thead>\n",
       "  <tbody>\n",
       "    <tr>\n",
       "      <th>0.0</th>\n",
       "      <td>1314</td>\n",
       "      <td>15</td>\n",
       "    </tr>\n",
       "    <tr>\n",
       "      <th>1.0</th>\n",
       "      <td>142</td>\n",
       "      <td>1</td>\n",
       "    </tr>\n",
       "    <tr>\n",
       "      <th>2.0</th>\n",
       "      <td>102</td>\n",
       "      <td>0</td>\n",
       "    </tr>\n",
       "    <tr>\n",
       "      <th>3.0</th>\n",
       "      <td>820</td>\n",
       "      <td>12</td>\n",
       "    </tr>\n",
       "  </tbody>\n",
       "</table>\n",
       "</div>"
      ],
      "text/plain": [
       "loan_status        0.0  1.0\n",
       "referal.aff_sub2           \n",
       "0.0               1314   15\n",
       "1.0                142    1\n",
       "2.0                102    0\n",
       "3.0                820   12"
      ]
     },
     "execution_count": 20,
     "metadata": {},
     "output_type": "execute_result"
    }
   ],
   "source": [
    "pd.crosstab(vsd['referal.aff_sub2'], vsd.loan_status)"
   ]
  },
  {
   "cell_type": "code",
   "execution_count": 21,
   "metadata": {},
   "outputs": [
    {
     "data": {
      "text/html": [
       "<div>\n",
       "<style scoped>\n",
       "    .dataframe tbody tr th:only-of-type {\n",
       "        vertical-align: middle;\n",
       "    }\n",
       "\n",
       "    .dataframe tbody tr th {\n",
       "        vertical-align: top;\n",
       "    }\n",
       "\n",
       "    .dataframe thead th {\n",
       "        text-align: right;\n",
       "    }\n",
       "</style>\n",
       "<table border=\"1\" class=\"dataframe\">\n",
       "  <thead>\n",
       "    <tr style=\"text-align: right;\">\n",
       "      <th>loan_status</th>\n",
       "      <th>0.0</th>\n",
       "      <th>1.0</th>\n",
       "    </tr>\n",
       "    <tr>\n",
       "      <th>referal.aff_sub3</th>\n",
       "      <th></th>\n",
       "      <th></th>\n",
       "    </tr>\n",
       "  </thead>\n",
       "  <tbody>\n",
       "    <tr>\n",
       "      <th>0.0</th>\n",
       "      <td>2224</td>\n",
       "      <td>28</td>\n",
       "    </tr>\n",
       "    <tr>\n",
       "      <th>1.0</th>\n",
       "      <td>154</td>\n",
       "      <td>0</td>\n",
       "    </tr>\n",
       "  </tbody>\n",
       "</table>\n",
       "</div>"
      ],
      "text/plain": [
       "loan_status        0.0  1.0\n",
       "referal.aff_sub3           \n",
       "0.0               2224   28\n",
       "1.0                154    0"
      ]
     },
     "execution_count": 21,
     "metadata": {},
     "output_type": "execute_result"
    }
   ],
   "source": [
    "pd.crosstab(vsd['referal.aff_sub3'], vsd.loan_status)"
   ]
  },
  {
   "cell_type": "code",
   "execution_count": 22,
   "metadata": {},
   "outputs": [
    {
     "data": {
      "text/html": [
       "<div>\n",
       "<style scoped>\n",
       "    .dataframe tbody tr th:only-of-type {\n",
       "        vertical-align: middle;\n",
       "    }\n",
       "\n",
       "    .dataframe tbody tr th {\n",
       "        vertical-align: top;\n",
       "    }\n",
       "\n",
       "    .dataframe thead th {\n",
       "        text-align: right;\n",
       "    }\n",
       "</style>\n",
       "<table border=\"1\" class=\"dataframe\">\n",
       "  <thead>\n",
       "    <tr style=\"text-align: right;\">\n",
       "      <th>loan_status</th>\n",
       "      <th>0.0</th>\n",
       "      <th>1.0</th>\n",
       "    </tr>\n",
       "    <tr>\n",
       "      <th>referal.aff_sub4</th>\n",
       "      <th></th>\n",
       "      <th></th>\n",
       "    </tr>\n",
       "  </thead>\n",
       "  <tbody>\n",
       "    <tr>\n",
       "      <th>0.0</th>\n",
       "      <td>2197</td>\n",
       "      <td>27</td>\n",
       "    </tr>\n",
       "    <tr>\n",
       "      <th>1.0</th>\n",
       "      <td>181</td>\n",
       "      <td>1</td>\n",
       "    </tr>\n",
       "  </tbody>\n",
       "</table>\n",
       "</div>"
      ],
      "text/plain": [
       "loan_status        0.0  1.0\n",
       "referal.aff_sub4           \n",
       "0.0               2197   27\n",
       "1.0                181    1"
      ]
     },
     "execution_count": 22,
     "metadata": {},
     "output_type": "execute_result"
    }
   ],
   "source": [
    "pd.crosstab(vsd['referal.aff_sub4'], vsd.loan_status)"
   ]
  },
  {
   "cell_type": "code",
   "execution_count": 23,
   "metadata": {},
   "outputs": [
    {
     "data": {
      "text/html": [
       "<div>\n",
       "<style scoped>\n",
       "    .dataframe tbody tr th:only-of-type {\n",
       "        vertical-align: middle;\n",
       "    }\n",
       "\n",
       "    .dataframe tbody tr th {\n",
       "        vertical-align: top;\n",
       "    }\n",
       "\n",
       "    .dataframe thead th {\n",
       "        text-align: right;\n",
       "    }\n",
       "</style>\n",
       "<table border=\"1\" class=\"dataframe\">\n",
       "  <thead>\n",
       "    <tr style=\"text-align: right;\">\n",
       "      <th>loan_status</th>\n",
       "      <th>0.0</th>\n",
       "      <th>1.0</th>\n",
       "    </tr>\n",
       "    <tr>\n",
       "      <th>document.0</th>\n",
       "      <th></th>\n",
       "      <th></th>\n",
       "    </tr>\n",
       "  </thead>\n",
       "  <tbody>\n",
       "    <tr>\n",
       "      <th>0.0</th>\n",
       "      <td>855</td>\n",
       "      <td>9</td>\n",
       "    </tr>\n",
       "    <tr>\n",
       "      <th>1.0</th>\n",
       "      <td>583</td>\n",
       "      <td>7</td>\n",
       "    </tr>\n",
       "    <tr>\n",
       "      <th>2.0</th>\n",
       "      <td>940</td>\n",
       "      <td>12</td>\n",
       "    </tr>\n",
       "  </tbody>\n",
       "</table>\n",
       "</div>"
      ],
      "text/plain": [
       "loan_status  0.0  1.0\n",
       "document.0           \n",
       "0.0          855    9\n",
       "1.0          583    7\n",
       "2.0          940   12"
      ]
     },
     "execution_count": 23,
     "metadata": {},
     "output_type": "execute_result"
    }
   ],
   "source": [
    "pd.crosstab(vsd['document.0'], vsd.loan_status)"
   ]
  },
  {
   "cell_type": "code",
   "execution_count": 24,
   "metadata": {},
   "outputs": [
    {
     "data": {
      "text/html": [
       "<div>\n",
       "<style scoped>\n",
       "    .dataframe tbody tr th:only-of-type {\n",
       "        vertical-align: middle;\n",
       "    }\n",
       "\n",
       "    .dataframe tbody tr th {\n",
       "        vertical-align: top;\n",
       "    }\n",
       "\n",
       "    .dataframe thead th {\n",
       "        text-align: right;\n",
       "    }\n",
       "</style>\n",
       "<table border=\"1\" class=\"dataframe\">\n",
       "  <thead>\n",
       "    <tr style=\"text-align: right;\">\n",
       "      <th>loan_status</th>\n",
       "      <th>0.0</th>\n",
       "      <th>1.0</th>\n",
       "    </tr>\n",
       "    <tr>\n",
       "      <th>document.1</th>\n",
       "      <th></th>\n",
       "      <th></th>\n",
       "    </tr>\n",
       "  </thead>\n",
       "  <tbody>\n",
       "    <tr>\n",
       "      <th>0.0</th>\n",
       "      <td>2209</td>\n",
       "      <td>25</td>\n",
       "    </tr>\n",
       "    <tr>\n",
       "      <th>1.0</th>\n",
       "      <td>169</td>\n",
       "      <td>3</td>\n",
       "    </tr>\n",
       "  </tbody>\n",
       "</table>\n",
       "</div>"
      ],
      "text/plain": [
       "loan_status   0.0  1.0\n",
       "document.1            \n",
       "0.0          2209   25\n",
       "1.0           169    3"
      ]
     },
     "execution_count": 24,
     "metadata": {},
     "output_type": "execute_result"
    }
   ],
   "source": [
    "pd.crosstab(vsd['document.1'], vsd.loan_status)"
   ]
  },
  {
   "cell_type": "code",
   "execution_count": 25,
   "metadata": {
    "scrolled": true
   },
   "outputs": [
    {
     "data": {
      "text/html": [
       "<div>\n",
       "<style scoped>\n",
       "    .dataframe tbody tr th:only-of-type {\n",
       "        vertical-align: middle;\n",
       "    }\n",
       "\n",
       "    .dataframe tbody tr th {\n",
       "        vertical-align: top;\n",
       "    }\n",
       "\n",
       "    .dataframe thead th {\n",
       "        text-align: right;\n",
       "    }\n",
       "</style>\n",
       "<table border=\"1\" class=\"dataframe\">\n",
       "  <thead>\n",
       "    <tr style=\"text-align: right;\">\n",
       "      <th>loan_status</th>\n",
       "      <th>0.0</th>\n",
       "      <th>1.0</th>\n",
       "    </tr>\n",
       "    <tr>\n",
       "      <th>incomeType</th>\n",
       "      <th></th>\n",
       "      <th></th>\n",
       "    </tr>\n",
       "  </thead>\n",
       "  <tbody>\n",
       "    <tr>\n",
       "      <th>0.0</th>\n",
       "      <td>854</td>\n",
       "      <td>9</td>\n",
       "    </tr>\n",
       "    <tr>\n",
       "      <th>1.0</th>\n",
       "      <td>931</td>\n",
       "      <td>13</td>\n",
       "    </tr>\n",
       "    <tr>\n",
       "      <th>2.0</th>\n",
       "      <td>593</td>\n",
       "      <td>6</td>\n",
       "    </tr>\n",
       "  </tbody>\n",
       "</table>\n",
       "</div>"
      ],
      "text/plain": [
       "loan_status  0.0  1.0\n",
       "incomeType           \n",
       "0.0          854    9\n",
       "1.0          931   13\n",
       "2.0          593    6"
      ]
     },
     "execution_count": 25,
     "metadata": {},
     "output_type": "execute_result"
    }
   ],
   "source": [
    "pd.crosstab(vsd['incomeType'], vsd.loan_status)"
   ]
  },
  {
   "cell_type": "code",
   "execution_count": 26,
   "metadata": {},
   "outputs": [],
   "source": [
    "\n",
    "X = vsd.drop(['loan_status','identity','phone'], axis = 1)\n",
    "y = vsd['loan_status']\n",
    "X_train, X_valid, y_train, y_valid = train_test_split(X,y, test_size = 0.7, random_state = 123)\n",
    "X_valid = X_valid.reset_index(drop=True)\n",
    "y_valid = y_valid.reset_index(drop=True)\n"
   ]
  },
  {
   "cell_type": "code",
   "execution_count": 27,
   "metadata": {},
   "outputs": [],
   "source": [
    "def calculateChiSquare(catVariable, targetCatVariable=y_train):\n",
    "    catGroupedByCatTarget = pd.crosstab(index = catVariable, columns = targetCatVariable)\n",
    "    testResult = stats.chi2_contingency(catGroupedByCatTarget)\n",
    "    print(f\"Chi Square Test Result between {targetCatVariable.name} & {catVariable.name}:\")\n",
    "    return print(testResult)"
   ]
  },
  {
   "cell_type": "code",
   "execution_count": 28,
   "metadata": {},
   "outputs": [
    {
     "name": "stdout",
     "output_type": "stream",
     "text": [
      "Chi Square Test Result between loan_status & incomeType:\n",
      "(0.5546349684151244, 0.7578138649796762, 2, array([[258.82801664,   2.17198336],\n",
      "       [269.73647712,   2.26352288],\n",
      "       [186.43550624,   1.56449376]]))\n"
     ]
    }
   ],
   "source": [
    "calculateChiSquare(X_train['incomeType'])"
   ]
  },
  {
   "cell_type": "code",
   "execution_count": 29,
   "metadata": {},
   "outputs": [
    {
     "data": {
      "image/png": "[encoded data removed]",
      "text/plain": [
       "<Figure size 576x576 with 1 Axes>"
      ]
     },
     "metadata": {
      "needs_background": "light"
     },
     "output_type": "display_data"
    }
   ],
   "source": [
    "LGB_train = LGBMClassifier(random_state=42)\n",
    "LGB_train.fit(X_train, y_train)\n",
    "plot_importance(LGB_train, figsize=(8, 8));"
   ]
  },
  {
   "cell_type": "code",
   "execution_count": 30,
   "metadata": {},
   "outputs": [
    {
     "data": {
      "image/png": "[encoded data removed]",
      "text/plain": [
       "<Figure size 432x288 with 1 Axes>"
      ]
     },
     "metadata": {
      "needs_background": "light"
     },
     "output_type": "display_data"
    }
   ],
   "source": [
    "XGB_train= XGBClassifier(use_label_encoder=False, verbosity = 0)\n",
    "XGB_train.fit(X_train, y_train)\n",
    "xgboost.plot_importance(XGB_train);"
   ]
  },
  {
   "cell_type": "code",
   "execution_count": 31,
   "metadata": {},
   "outputs": [],
   "source": [
    "importance_feature = ['loan_amount','income','dob','city','payback']\n",
    "X_valid_importance = X_valid[importance_feature]"
   ]
  },
  {
   "cell_type": "code",
   "execution_count": 32,
   "metadata": {},
   "outputs": [],
   "source": [
    "\n",
    "\n",
    "def get_score(model, X_train, X_valid, y_train, y_valid):\n",
    "    model.fit(X_train, y_train)\n",
    "    y_pred = model.predict(X_valid)\n",
    "    return f1_score(y_valid,y_pred)\n",
    "\n",
    "def print_score(X,y):\n",
    "    k=10\n",
    "    folds = StratifiedKFold(k)\n",
    "    acc_score_LGB = []\n",
    "    acc_score_XGB = []\n",
    "    acc_score_lr = []\n",
    "    acc_score_dt = []\n",
    "    acc_score_rf = []\n",
    "    for train_index, valid_index in folds.split(X,y):\n",
    "        X_train , X_valid = X.iloc[train_index,:],X.iloc[valid_index,:]\n",
    "        y_train , y_valid = y[train_index] , y[valid_index]\n",
    "        acc_score_LGB.append(get_score(LGBMClassifier(random_state=42), X_train , X_valid, y_train , y_valid))\n",
    "        acc_score_XGB.append(get_score(XGBClassifier(use_label_encoder=False, verbosity = 0), X_train , X_valid, y_train , y_valid))\n",
    "        acc_score_lr.append(get_score(LogisticRegression(), X_train , X_valid, y_train , y_valid))\n",
    "        acc_score_dt.append(get_score(DecisionTreeClassifier(), X_train , X_valid, y_train , y_valid))\n",
    "        acc_score_rf.append(get_score(RandomForestClassifier(), X_train , X_valid, y_train , y_valid))\n",
    "\n",
    "    print('Light Gradient Boosted Machine:')\n",
    "    avg = sum(acc_score_LGB)\n",
    "    print(avg)\n",
    "\n",
    "    print('eXtreme Gradient Boosting:')\n",
    "    avg = sum(acc_score_XGB)\n",
    "    print(avg)\n",
    "\n",
    "    print('Logistic Regression:')\n",
    "    avg = sum(acc_score_lr)\n",
    "    print(avg)\n",
    "\n",
    "    print('Decision Tree Classifier:')\n",
    "    avg = sum(acc_score_dt)\n",
    "    print(avg)\n",
    "\n",
    "    print('Random Forest Classifier:')\n",
    "    avg = sum(acc_score_rf)\n",
    "    print(avg)\n",
    "    return 0"
   ]
  },
  {
   "cell_type": "code",
   "execution_count": 33,
   "metadata": {},
   "outputs": [
    {
     "name": "stdout",
     "output_type": "stream",
     "text": [
      "Light Gradient Boosted Machine:\n",
      "0.0\n",
      "eXtreme Gradient Boosting:\n",
      "0.0\n",
      "Logistic Regression:\n",
      "0.0\n",
      "Decision Tree Classifier:\n",
      "0.0\n",
      "Random Forest Classifier:\n",
      "0.0\n"
     ]
    },
    {
     "data": {
      "text/plain": [
       "0"
      ]
     },
     "execution_count": 33,
     "metadata": {},
     "output_type": "execute_result"
    }
   ],
   "source": [
    "print_score(X_valid,y_valid)"
   ]
  },
  {
   "cell_type": "code",
   "execution_count": 34,
   "metadata": {},
   "outputs": [
    {
     "name": "stdout",
     "output_type": "stream",
     "text": [
      "Light Gradient Boosted Machine:\n",
      "0.0\n",
      "eXtreme Gradient Boosting:\n",
      "0.0\n",
      "Logistic Regression:\n",
      "0.0\n",
      "Decision Tree Classifier:\n",
      "0.0\n",
      "Random Forest Classifier:\n",
      "0.0\n"
     ]
    },
    {
     "data": {
      "text/plain": [
       "0"
      ]
     },
     "execution_count": 34,
     "metadata": {},
     "output_type": "execute_result"
    }
   ],
   "source": [
    "print_score(X_valid_importance,y_valid)"
   ]
  },
  {
   "cell_type": "code",
   "execution_count": null,
   "metadata": {},
   "outputs": [],
   "source": []
  }
 ],
 "metadata": {
  "kernelspec": {
   "display_name": "Python 3",
   "language": "python",
   "name": "python3"
  },
  "language_info": {
   "codemirror_mode": {
    "name": "ipython",
    "version": 3
   },
   "file_extension": ".py",
   "mimetype": "text/x-python",
   "name": "python",
   "nbconvert_exporter": "python",
   "pygments_lexer": "ipython3",
   "version": "3.8.5"
  }
 },
 "nbformat": 4,
 "nbformat_minor": 4
}
